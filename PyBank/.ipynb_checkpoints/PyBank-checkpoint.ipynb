{
 "cells": [
  {
   "cell_type": "code",
   "execution_count": 210,
   "metadata": {},
   "outputs": [
    {
     "ename": "SyntaxError",
     "evalue": "invalid syntax (<ipython-input-210-ef08cf0e33ab>, line 49)",
     "output_type": "error",
     "traceback": [
      "\u001b[1;36m  File \u001b[1;32m\"<ipython-input-210-ef08cf0e33ab>\"\u001b[1;36m, line \u001b[1;32m49\u001b[0m\n\u001b[1;33m    for i to total_months:\u001b[0m\n\u001b[1;37m           ^\u001b[0m\n\u001b[1;31mSyntaxError\u001b[0m\u001b[1;31m:\u001b[0m invalid syntax\n"
     ]
    }
   ],
   "source": [
    "# PyBank\n",
    "\n",
    "# Dependencies\n",
    "\n",
    "import os\n",
    "import csv\n",
    "import pandas as pd\n",
    "\n",
    "\n",
    "# Files to load and output\n",
    "\n",
    "bankData = os.path.join('.', 'Resources', 'budget_data.csv') #.. back a directory, . current directory\n",
    "postData = os.path.join('.', 'Resources', 'budget_analysis.txt')\n",
    "print(bankData)\n",
    "\n",
    "#Track the various financial parameters\n",
    "\n",
    "total_months = 0\n",
    "months_of_change = []\n",
    "net_change_list = []\n",
    "greatest_increase = [\"\",0]\n",
    "greatest_decrease = [\"\",999999999999999999999]\n",
    "total_net = 0\n",
    "\n",
    "# Read the csv and convert it into a list dictionary\n",
    "\n",
    "with open(bankData) as financial_data:\n",
    "\n",
    "    # CSV reader specifies delimiter and variable that holds contents, makes columns based off the delimiter (,)\n",
    "    csvreader = csv.reader(financial_data)\n",
    "    \n",
    "    # Read the header row\n",
    "    header = next(csvreader)\n",
    "    print(header)\n",
    "    \n",
    "    # Extract the first row to avoid appending to net_change_list\n",
    "    first_row = next(csvreader)\n",
    "    print(first_row)\n",
    "    total_months = total_months + 1\n",
    "    # print(first_row[1])\n",
    "    # print(total_months)\n",
    "    \n",
    "    total_net = total_net + int(first_row[1])\n",
    "    prev_net = int(first_row[1])\n",
    "    print(prev_net)\n",
    "    print(total_net)\n",
    "\n",
    "    #loop through the data\n",
    "    for row in csvreader:\n",
    "        \n",
    "        # track the total\n",
    "        total_months = total_months + 1\n",
    "        total_net = total_net + int(row[1)])\n",
    "        \n",
    "        \n",
    "        \n",
    "        \n",
    "        \n",
    "    \n",
    "#\n",
    "#    for i to total_months:\n",
    "#        total_net = sum(financial_data[1])\n",
    "#        print(total_net)\n",
    "#\n",
    "    \n",
    "    \n",
    "    "
   ]
  },
  {
   "cell_type": "code",
   "execution_count": null,
   "metadata": {},
   "outputs": [],
   "source": []
  }
 ],
 "metadata": {
  "kernelspec": {
   "display_name": "Python 3",
   "language": "python",
   "name": "python3"
  },
  "language_info": {
   "codemirror_mode": {
    "name": "ipython",
    "version": 3
   },
   "file_extension": ".py",
   "mimetype": "text/x-python",
   "name": "python",
   "nbconvert_exporter": "python",
   "pygments_lexer": "ipython3",
   "version": "3.7.4"
  }
 },
 "nbformat": 4,
 "nbformat_minor": 2
}
