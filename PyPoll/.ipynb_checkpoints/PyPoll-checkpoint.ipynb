{
 "cells": [
  {
   "cell_type": "code",
   "execution_count": 19,
   "metadata": {},
   "outputs": [
    {
     "name": "stdout",
     "output_type": "stream",
     "text": [
      "./Resources/election_data.csv\n",
      "3521001\n"
     ]
    },
    {
     "data": {
      "text/plain": [
       "Khan        2218231\n",
       "Correy       704200\n",
       "Li           492940\n",
       "O'Tooley     105630\n",
       "Name: Candidate, dtype: int64"
      ]
     },
     "execution_count": 19,
     "metadata": {},
     "output_type": "execute_result"
    }
   ],
   "source": [
    "# PyPoll\n",
    "\n",
    "# Dependencies\n",
    "\n",
    "import os\n",
    "import csv\n",
    "import pandas as pd\n",
    "\n",
    "\n",
    "# Files to load and output\n",
    "\n",
    "electionData = \"./Resources/election_data.csv\" #.. back a directory, . current directory\n",
    "postData = os.path.join('.', 'Resources', 'election_analysis.txt')\n",
    "print(electionData)\n",
    "# print(postData)\n",
    "\n",
    "election_data_pd = pd.read_csv(electionData)\n",
    "election_data_pd.head()\n",
    "\n",
    "#election_data_pd[\"Candidate\"].unique()\n",
    "\n",
    "total_votes = len(election_data_pd[\"Voter ID\"].value_counts())\n",
    "print(total_votes)\n",
    "election_data_pd[\"Candidate\"].value_counts()\n",
    "\n",
    "#Track the various financial parameters\n",
    "\n",
    "#total_votes = 0\n",
    "\n",
    "    "
   ]
  },
  {
   "cell_type": "code",
   "execution_count": null,
   "metadata": {},
   "outputs": [],
   "source": []
  }
 ],
 "metadata": {
  "kernelspec": {
   "display_name": "Python 3",
   "language": "python",
   "name": "python3"
  },
  "language_info": {
   "codemirror_mode": {
    "name": "ipython",
    "version": 3
   },
   "file_extension": ".py",
   "mimetype": "text/x-python",
   "name": "python",
   "nbconvert_exporter": "python",
   "pygments_lexer": "ipython3",
   "version": "3.7.4"
  }
 },
 "nbformat": 4,
 "nbformat_minor": 2
}
