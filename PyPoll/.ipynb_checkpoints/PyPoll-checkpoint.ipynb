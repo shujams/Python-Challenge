{
 "cells": [
  {
   "cell_type": "code",
   "execution_count": 21,
   "metadata": {},
   "outputs": [
    {
     "name": "stdout",
     "output_type": "stream",
     "text": [
      "./Resources/election_data.csv\n",
      "3521001\n"
     ]
    },
    {
     "data": {
      "text/html": [
       "<div>\n",
       "<style scoped>\n",
       "    .dataframe tbody tr th:only-of-type {\n",
       "        vertical-align: middle;\n",
       "    }\n",
       "\n",
       "    .dataframe tbody tr th {\n",
       "        vertical-align: top;\n",
       "    }\n",
       "\n",
       "    .dataframe thead th {\n",
       "        text-align: right;\n",
       "    }\n",
       "</style>\n",
       "<table border=\"1\" class=\"dataframe\">\n",
       "  <thead>\n",
       "    <tr style=\"text-align: right;\">\n",
       "      <th></th>\n",
       "      <th>Candidate</th>\n",
       "    </tr>\n",
       "  </thead>\n",
       "  <tbody>\n",
       "    <tr>\n",
       "      <td>Khan</td>\n",
       "      <td>2218231</td>\n",
       "    </tr>\n",
       "    <tr>\n",
       "      <td>Correy</td>\n",
       "      <td>704200</td>\n",
       "    </tr>\n",
       "    <tr>\n",
       "      <td>Li</td>\n",
       "      <td>492940</td>\n",
       "    </tr>\n",
       "    <tr>\n",
       "      <td>O'Tooley</td>\n",
       "      <td>105630</td>\n",
       "    </tr>\n",
       "  </tbody>\n",
       "</table>\n",
       "</div>"
      ],
      "text/plain": [
       "          Candidate\n",
       "Khan        2218231\n",
       "Correy       704200\n",
       "Li           492940\n",
       "O'Tooley     105630"
      ]
     },
     "execution_count": 21,
     "metadata": {},
     "output_type": "execute_result"
    }
   ],
   "source": [
    "# PyPoll\n",
    "\n",
    "# Dependencies\n",
    "\n",
    "import os\n",
    "import csv\n",
    "import pandas as pd\n",
    "\n",
    "\n",
    "# Files to load and output\n",
    "\n",
    "electionData = \"./Resources/election_data.csv\" #.. back a directory, . current directory\n",
    "postData = os.path.join('.', 'Resources', 'election_analysis.txt')\n",
    "print(electionData)\n",
    "# print(postData)\n",
    "\n",
    "election_data_pd = pd.read_csv(electionData)\n",
    "election_data_pd.head()\n",
    "\n",
    "#election_data_pd[\"Candidate\"].unique()\n",
    "\n",
    "total_votes = len(election_data_pd[\"Voter ID\"].value_counts())\n",
    "print(total_votes)\n",
    "candidate_votes = election_data_pd[\"Candidate\"].value_counts()\n",
    "\n",
    "# Convert the state_counts Series into a DataFrame\n",
    "election_data_df = pd.DataFrame(candidate_votes)\n",
    "election_data_df.head()\n",
    "\n",
    "#Track the various financial parameters\n",
    "\n",
    "#total_votes = 0\n",
    "\n",
    "    "
   ]
  },
  {
   "cell_type": "code",
   "execution_count": null,
   "metadata": {},
   "outputs": [],
   "source": []
  }
 ],
 "metadata": {
  "kernelspec": {
   "display_name": "Python 3",
   "language": "python",
   "name": "python3"
  },
  "language_info": {
   "codemirror_mode": {
    "name": "ipython",
    "version": 3
   },
   "file_extension": ".py",
   "mimetype": "text/x-python",
   "name": "python",
   "nbconvert_exporter": "python",
   "pygments_lexer": "ipython3",
   "version": "3.7.4"
  }
 },
 "nbformat": 4,
 "nbformat_minor": 2
}
