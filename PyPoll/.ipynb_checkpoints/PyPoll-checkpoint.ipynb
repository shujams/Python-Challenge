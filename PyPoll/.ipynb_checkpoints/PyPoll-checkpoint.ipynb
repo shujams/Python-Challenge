{
 "cells": [
  {
   "cell_type": "code",
   "execution_count": 45,
   "metadata": {},
   "outputs": [
    {
     "name": "stdout",
     "output_type": "stream",
     "text": [
      "./Resources/election_data.csv\n",
      "3521001\n",
      "          Vote Count\n",
      "Khan         2218231\n",
      "Correy        704200\n",
      "Li            492940\n",
      "O'Tooley      105630\n",
      "63.00001050837531\n",
      "19.999994319797125\n",
      "13.999996023857989\n",
      "2.999999147969569\n"
     ]
    }
   ],
   "source": [
    "# PyPoll\n",
    "\n",
    "# Dependencies\n",
    "\n",
    "import os\n",
    "import csv\n",
    "import pandas as pd\n",
    "\n",
    "\n",
    "# Files to load and output\n",
    "\n",
    "electionData = \"./Resources/election_data.csv\" #.. back a directory, . current directory\n",
    "postData = os.path.join('.', 'Resources', 'election_analysis.txt')\n",
    "print(electionData)\n",
    "# print(postData)\n",
    "\n",
    "election_data_pd = pd.read_csv(electionData)\n",
    "election_data_pd.head()\n",
    "\n",
    "#election_data_pd[\"Candidate\"].unique()\n",
    "\n",
    "total_votes = len(election_data_pd[\"Voter ID\"].unique())\n",
    "print(total_votes)\n",
    "candidate_votes = election_data_pd[\"Candidate\"].value_counts()\n",
    "\n",
    "# Convert the state_counts Series into a DataFrame\n",
    "election_data_df = pd.DataFrame(candidate_votes)\n",
    "election_data_df.head()\n",
    "\n",
    "election_data_df = election_data_df.rename(\n",
    "    columns={\"Candidate\": \"Vote Count\",\n",
    "            \"\": \"Candidate\"})\n",
    "print(election_data_df)\n",
    "\n",
    "\n",
    "khan_percentage = float((election_data_df.iat[0,0] / total_votes) * 100)\n",
    "print(khan_percentage)\n",
    "\n",
    "correy_percentage = float((election_data_df.iat[1,0] / total_votes) * 100)\n",
    "print(correy_percentage)\n",
    "\n",
    "li_percentage = float((election_data_df.iat[2,0] / total_votes) * 100)\n",
    "print(li_percentage)\n",
    "\n",
    "otooley_percentage = float((election_data_df.iat[3,0] / total_votes) * 100)\n",
    "print(otooley_percentage)\n",
    "\n",
    "# winner = election_data_df[\"Vote Count\"].max()\n",
    "# winner\n"
   ]
  },
  {
   "cell_type": "code",
   "execution_count": null,
   "metadata": {},
   "outputs": [],
   "source": []
  }
 ],
 "metadata": {
  "kernelspec": {
   "display_name": "Python 3",
   "language": "python",
   "name": "python3"
  },
  "language_info": {
   "codemirror_mode": {
    "name": "ipython",
    "version": 3
   },
   "file_extension": ".py",
   "mimetype": "text/x-python",
   "name": "python",
   "nbconvert_exporter": "python",
   "pygments_lexer": "ipython3",
   "version": "3.7.4"
  }
 },
 "nbformat": 4,
 "nbformat_minor": 2
}
